{
 "cells": [
  {
   "cell_type": "raw",
   "metadata": {},
   "source": [
    "# Parámetros\n",
    "\n",
    "* No convertir los números a cadenas para poderlos descomponer.\n",
    "* Cuando se pregunta por ejemplo un número entero de tres dígitos, se está refiriendo a los números enteros -999, -998, ..., -101, -100, 100, 101, ..., 998 y 999.\n",
    "* Cuando se pregunta por ejemplo un número entero de máximo tres dígitos, se está refiriendo a los números enteros -999, -998, ..., -2, -1, 0, 1, 2, ..., 998 y 999.\n",
    "* Los números primos son los números naturales 2, 3, 5, 7, 11, 13, 17, 19, 23, ...\n",
    "* La serie de Fibonacci está dada por: 0, 1, 1, 2, 3, 5, 8, 13, 21, ...\n",
    "* Tener en cuenta que muchos de los ejercicios solicitan cálculos sobre los números enteros; no sobre los números naturales; por lo tanto, es necesario tener en cuenta los números enteros negativos, cuando sea del caso.\n",
    "* Se dice que 3, 4, 5 y 6 son los números enteros comprendidos entre el 3 y el 6.\n",
    "* Del número 349857 se puede decir que el 3 es su primer dígito, el 4 es su segundo dígito, el 5 es su penúltimo dígito y el 7 es su último dígito.\n",
    "* No utilizar el método count() de listas, a menos que se diga lo contrario.\n",
    "* Desarrollar algoritmos con el mayor grado de generalidad posible."
   ]
  },
  {
   "cell_type": "markdown",
   "metadata": {},
   "source": [
    "## Decisiones y Ciclos"
   ]
  },
  {
   "cell_type": "raw",
   "metadata": {},
   "source": [
    "1) Sin utilizar el comando abs, escribir un programa que calcule e imprima el valor absoluto de cualquier número (sea\n",
    "entero o decimal)."
   ]
  },
  {
   "cell_type": "code",
   "execution_count": null,
   "metadata": {
    "collapsed": true
   },
   "outputs": [],
   "source": [
    "num=float((input('Escriba un numero:')))\n",
    "if num<0:\n",
    "    num=num*-1\n",
    "    print('Valor absoluto:')"
   ]
  },
  {
   "cell_type": "raw",
   "metadata": {},
   "source": [
    "2) Leer un número entero y escribirlo en reversa. Por ejemplo, 461975 será 579164. No utilizar comandos de\n",
    "ordenamiento."
   ]
  },
  {
   "cell_type": "code",
   "execution_count": null,
   "metadata": {
    "collapsed": true
   },
   "outputs": [],
   "source": [
    "N = int(input('Escriba un número entero: '))\n",
    "\n",
    "if N < 0:\n",
    "    N = N * (-1) \n",
    "if N > 0:\n",
    "    while N != 0:\n",
    "        R = N % 10\n",
    "        N //= 10\n",
    "        print(R, end='')\n",
    "            "
   ]
  },
  {
   "cell_type": "raw",
   "metadata": {},
   "source": [
    "3) Leer un número entero de 3 dígitos y determinar si contiene el dígito 8."
   ]
  },
  {
   "cell_type": "code",
   "execution_count": null,
   "metadata": {
    "collapsed": true
   },
   "outputs": [],
   "source": [
    "x = int(input('Escriba un número entero de tres dígitos '))\n",
    "\n",
    "if x//100 > 0 and x//100<=9:\n",
    "    \n",
    "    Dígito1 = x // 100\n",
    "    Reciduo1 = x % 100\n",
    "    \n",
    "    Dígito2 = Reciduo1 // 10\n",
    "    \n",
    "    Dígito3 = Reciduo1 % 10\n",
    "    \n",
    "    if Dígito1 == 8 or Dígito2 == 8 or Dígito3 == 8:\n",
    "        print('El número ', x , 'contiene el dígito 8')\n",
    "    else:\n",
    "        print('El número', x, ' no contiene el dígito 8')\n",
    "\n",
    "else:\n",
    "    print('ERROR, escriba un número entero de tres dígitos')"
   ]
  },
  {
   "cell_type": "raw",
   "metadata": {},
   "source": [
    "7) Leer un número entero positivo y determine si existen en el número dígitos repetidos. Reporte cuales son los dígitos\n",
    "repetidos."
   ]
  },
  {
   "cell_type": "code",
   "execution_count": null,
   "metadata": {
    "collapsed": true
   },
   "outputs": [],
   "source": [
    "Lista1=[]\n",
    "Lista2=[]\n",
    "\n",
    "x=int(input('Escribir el numero entero positivo:')\n",
    "\n",
    "if x < 0:\n",
    "    print ('El número no es entero positivo')\n",
    "else:  \n",
    "    a = 0\n",
    "    \n",
    "    while x > 0:\n",
    "        b = x % 10\n",
    "        a = b\n",
    "        Lista.append(a)\n",
    "        x //= 10\n",
    "        \n",
    "    print('La lista es: ',Lista)\n",
    "    \n",
    "    if Lista != []:\n",
    "        for i in Lista:\n",
    "            Lista.count(i)\n",
    "            if (Lista.count(i) > 1):\n",
    "                c = Lista2.append(i)\n",
    "        if Lista2 != []:\n",
    "            print('Los dígitos repetidos son',Lista2)\n",
    "    else:\n",
    "        print('El número ',x,'no contiene ningún dígito que se repite')\n",
    "    if Lista2 == []:\n",
    "        print('El número ',x,'no contiene ningún dígito que se repite')"
   ]
  }
 ],
 "metadata": {
  "kernelspec": {
   "display_name": "Python 3",
   "language": "python",
   "name": "python3"
  },
  "language_info": {
   "codemirror_mode": {
    "name": "ipython",
    "version": 3
   },
   "file_extension": ".py",
   "mimetype": "text/x-python",
   "name": "python",
   "nbconvert_exporter": "python",
   "pygments_lexer": "ipython3",
   "version": "3.6.3"
  }
 },
 "nbformat": 4,
 "nbformat_minor": 2
}
